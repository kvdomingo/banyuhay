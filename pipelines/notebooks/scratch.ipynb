{
 "cells": [
  {
   "cell_type": "code",
   "execution_count": 6,
   "id": "initial_id",
   "metadata": {
    "ExecuteTime": {
     "end_time": "2024-10-15T09:50:16.253125Z",
     "start_time": "2024-10-15T09:50:16.201811Z"
    },
    "collapsed": true
   },
   "outputs": [],
   "source": [
    "import os\n",
    "\n",
    "os.chdir(\"..\")\n",
    "\n",
    "from datetime import datetime\n",
    "from pathlib import Path\n",
    "\n",
    "import googlemaps\n",
    "\n",
    "from pipelines.settings import settings"
   ]
  },
  {
   "cell_type": "code",
   "execution_count": 3,
   "id": "fd956afbe1376ae8",
   "metadata": {
    "ExecuteTime": {
     "end_time": "2024-10-15T09:49:53.267607Z",
     "start_time": "2024-10-15T09:49:53.262774Z"
    }
   },
   "outputs": [],
   "source": [
    "captions = {}\n",
    "for file in Path(settings.BASE_DIR / \"data/meronbangbidet\").glob(\"*.txt\"):\n",
    "    with open(file) as fh:\n",
    "        captions[file.stem] = fh.read()"
   ]
  },
  {
   "cell_type": "code",
   "execution_count": 4,
   "id": "451ad4e0bf018a99",
   "metadata": {
    "ExecuteTime": {
     "end_time": "2024-10-15T09:49:54.018010Z",
     "start_time": "2024-10-15T09:49:54.013220Z"
    }
   },
   "outputs": [
    {
     "data": {
      "text/plain": [
       "('2019-02-04_15-25-03_UTC',\n",
       " ['Walang Bidet sa The Peak, Grand Hyatt. *sa sobrang lasing ko hindi ko sinunod sarili kong layout :(*',\n",
       "  'Water Pressure: -',\n",
       "  'Cleanliness: ⭐️⭐️⭐️⭐️⭐️',\n",
       "  'Poopability: -',\n",
       "  'Weewee ka lang dito. :( well attended yung banyo. Solid doors. Hindi ka mapapasok ng kung sino. Pero hindi ka makakajebs.',\n",
       "  '#meronbangbidet #walangbidet #hindipoopable',\n",
       "  ''])"
      ]
     },
     "execution_count": 4,
     "metadata": {},
     "output_type": "execute_result"
    }
   ],
   "source": [
    "key = list(captions.keys())[0]\n",
    "entry_full = list(captions.values())[0]\n",
    "entry = entry_full.split(\"\\n\")\n",
    "key, entry"
   ]
  },
  {
   "cell_type": "code",
   "execution_count": 5,
   "id": "55259825c7b0b90a",
   "metadata": {
    "ExecuteTime": {
     "end_time": "2024-10-15T09:49:56.334730Z",
     "start_time": "2024-10-15T09:49:56.328902Z"
    }
   },
   "outputs": [
    {
     "data": {
      "text/plain": [
       "{'created': datetime.datetime(2019, 2, 4, 15, 25, 3),\n",
       " 'has_bidet': False,\n",
       " 'establishment_name': 'the peak, grand hyatt',\n",
       " 'content': 'Walang Bidet sa The Peak, Grand Hyatt. *sa sobrang lasing ko hindi ko sinunod sarili kong layout :(*\\nWeewee ka lang dito. :( well attended yung banyo. Solid doors. Hindi ka mapapasok ng kung sino. Pero hindi ka makakajebs.\\n',\n",
       " 'rating_cleanliness': 5,\n",
       " 'rating_water_pressure': 0,\n",
       " 'rating_poopability': 0}"
      ]
     },
     "execution_count": 5,
     "metadata": {},
     "output_type": "execute_result"
    }
   ],
   "source": [
    "def get_stars(attr: str):\n",
    "    return (\n",
    "        next(\n",
    "            (e for i, e in enumerate(entry) if e.lower().startswith(attr)),\n",
    "            \"\",\n",
    "        )\n",
    "        .split(\": \")[-1]\n",
    "        .strip()\n",
    "        .count(\"⭐\")\n",
    "    )\n",
    "\n",
    "\n",
    "def get_caption():\n",
    "    end_idx = next(\n",
    "        (i for i in range(len(entry)) if \"water pressure\" in entry[i].lower()),\n",
    "        -1,\n",
    "    )\n",
    "    start_idx = (\n",
    "        next(\n",
    "            (i for i in range(len(entry)) if \"poopability\" in entry[i].lower()),\n",
    "            -1,\n",
    "        )\n",
    "        + 1\n",
    "    )\n",
    "    return \"\\n\".join(\n",
    "        [\n",
    "            \"\\n\".join(e for e in entry[:end_idx] if not e.startswith(\"#\")),\n",
    "            \"\\n\".join(e for e in entry[start_idx:] if not e.startswith(\"#\")),\n",
    "        ]\n",
    "    )\n",
    "\n",
    "\n",
    "def get_timestamp():\n",
    "    return datetime.strptime(key, \"%Y-%m-%d_%H-%M-%S_%Z\")\n",
    "\n",
    "\n",
    "def get_has_bidet():\n",
    "    return entry[0].lower().startswith(\"meron\")\n",
    "\n",
    "\n",
    "def get_location_name():\n",
    "    return entry[0].lower().split(\" sa \")[-1].split(\".\")[0]\n",
    "\n",
    "\n",
    "def get_meta():\n",
    "    return {\n",
    "        \"created\": get_timestamp(),\n",
    "        \"has_bidet\": get_has_bidet(),\n",
    "        \"establishment_name\": get_location_name(),\n",
    "        \"content\": get_caption(),\n",
    "        \"rating_cleanliness\": get_stars(\"cleanliness\"),\n",
    "        \"rating_water_pressure\": get_stars(\"water pressure\"),\n",
    "        \"rating_poopability\": get_stars(\"poopability\"),\n",
    "    }\n",
    "\n",
    "\n",
    "get_meta()"
   ]
  },
  {
   "cell_type": "code",
   "execution_count": 8,
   "id": "d3889058dc243ffc",
   "metadata": {
    "ExecuteTime": {
     "end_time": "2024-10-15T09:50:32.759826Z",
     "start_time": "2024-10-15T09:50:32.756927Z"
    }
   },
   "outputs": [],
   "source": [
    "gmaps = googlemaps.Client(key=settings.GOOGLE_MAPS_API_KEY)"
   ]
  },
  {
   "cell_type": "code",
   "execution_count": 19,
   "id": "c2e0023b192e34dd",
   "metadata": {
    "ExecuteTime": {
     "end_time": "2024-10-15T10:36:12.733431Z",
     "start_time": "2024-10-15T10:36:12.282625Z"
    }
   },
   "outputs": [
    {
     "data": {
      "text/plain": [
       "{'html_attributions': [],\n",
       " 'results': [{'business_status': 'OPERATIONAL',\n",
       "   'formatted_address': '60th Floor, Grand Hyatt Manila, 8th Avenue corner, 35th St, Taguig, 1634 Metro Manila',\n",
       "   'geometry': {'location': {'lat': 14.5563657, 'lng': 121.0517549},\n",
       "    'viewport': {'northeast': {'lat': 14.55761567989272,\n",
       "      'lng': 121.0530695798927},\n",
       "     'southwest': {'lat': 14.55491602010728, 'lng': 121.0503699201073}}},\n",
       "   'icon': 'https://maps.gstatic.com/mapfiles/place_api/icons/v1/png_71/restaurant-71.png',\n",
       "   'icon_background_color': '#FF9E67',\n",
       "   'icon_mask_base_uri': 'https://maps.gstatic.com/mapfiles/place_api/icons/v2/restaurant_pinlet',\n",
       "   'name': 'The Peak Grill',\n",
       "   'opening_hours': {'open_now': True},\n",
       "   'photos': [{'height': 4032,\n",
       "     'html_attributions': ['<a href=\"https://maps.google.com/maps/contrib/102017190541913289234\">Marvenn Chua</a>'],\n",
       "     'photo_reference': 'AdCG2DP4c-pmV10s1olo2qWig8E_mA8Air22tfNKOMZ0Ku5-UC-ISQX8ebRMNe-QIJ71quSzhqgjEfl1BMNVfQyFLHXFzURQm2Zs34OHvdz3uocaaLAIuDaom7nSRyNar531xi93ZDYfv8O-ucMran19M0R1OJ15Md39DkaesD_LTiUcXesX',\n",
       "     'width': 3024}],\n",
       "   'place_id': 'ChIJi0l_j_TJlzMRLB34fyFUzxI',\n",
       "   'plus_code': {'compound_code': 'H342+HP Taguig, Metro Manila',\n",
       "    'global_code': '7Q63H342+HP'},\n",
       "   'rating': 4.4,\n",
       "   'reference': 'ChIJi0l_j_TJlzMRLB34fyFUzxI',\n",
       "   'types': ['restaurant', 'food', 'point_of_interest', 'establishment'],\n",
       "   'user_ratings_total': 425}],\n",
       " 'status': 'OK'}"
      ]
     },
     "execution_count": 19,
     "metadata": {},
     "output_type": "execute_result"
    }
   ],
   "source": [
    "# res = gmaps.geocode('grand hyatt manila', region='ph')\n",
    "res = gmaps.places(\"the peak, grand hyatt\", region=\"ph\")\n",
    "res"
   ]
  },
  {
   "cell_type": "code",
   "execution_count": 21,
   "id": "291456d439fd776f",
   "metadata": {
    "ExecuteTime": {
     "end_time": "2024-10-15T10:36:25.129017Z",
     "start_time": "2024-10-15T10:36:25.125768Z"
    }
   },
   "outputs": [
    {
     "data": {
      "text/plain": [
       "{'lat': 14.5563657, 'lng': 121.0517549}"
      ]
     },
     "execution_count": 21,
     "metadata": {},
     "output_type": "execute_result"
    }
   ],
   "source": [
    "res[\"results\"][0][\"geometry\"][\"location\"]"
   ]
  }
 ],
 "metadata": {
  "kernelspec": {
   "display_name": "Python 3",
   "language": "python",
   "name": "python3"
  },
  "language_info": {
   "codemirror_mode": {
    "name": "ipython",
    "version": 2
   },
   "file_extension": ".py",
   "mimetype": "text/x-python",
   "name": "python",
   "nbconvert_exporter": "python",
   "pygments_lexer": "ipython2",
   "version": "2.7.6"
  }
 },
 "nbformat": 4,
 "nbformat_minor": 5
}
