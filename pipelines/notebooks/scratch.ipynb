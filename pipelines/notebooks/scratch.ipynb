{
 "cells": [
  {
   "cell_type": "code",
   "execution_count": 6,
   "id": "initial_id",
   "metadata": {
    "ExecuteTime": {
     "end_time": "2024-10-15T09:50:16.253125Z",
     "start_time": "2024-10-15T09:50:16.201811Z"
    },
    "collapsed": true
   },
   "outputs": [],
   "source": [
    "import os\n",
    "\n",
    "os.chdir(\"..\")\n",
    "\n",
    "from datetime import datetime\n",
    "from pathlib import Path\n",
    "\n",
    "import googlemaps\n",
    "\n",
    "from pipelines.settings import settings"
   ]
  },
  {
   "cell_type": "code",
   "execution_count": 3,
   "id": "fd956afbe1376ae8",
   "metadata": {
    "ExecuteTime": {
     "end_time": "2024-10-15T09:49:53.267607Z",
     "start_time": "2024-10-15T09:49:53.262774Z"
    }
   },
   "outputs": [],
   "source": [
    "captions = {}\n",
    "for file in Path(settings.BASE_DIR / \"data/meronbangbidet\").glob(\"*.txt\"):\n",
    "    with open(file) as fh:\n",
    "        captions[file.stem] = fh.read()"
   ]
  },
  {
   "cell_type": "code",
   "execution_count": 4,
   "id": "451ad4e0bf018a99",
   "metadata": {
    "ExecuteTime": {
     "end_time": "2024-10-15T09:49:54.018010Z",
     "start_time": "2024-10-15T09:49:54.013220Z"
    }
   },
   "outputs": [
    {
     "data": {
      "text/plain": [
       "('2019-02-04_15-25-03_UTC',\n",
       " ['Walang Bidet sa The Peak, Grand Hyatt. *sa sobrang lasing ko hindi ko sinunod sarili kong layout :(*',\n",
       "  'Water Pressure: -',\n",
       "  'Cleanliness: ⭐️⭐️⭐️⭐️⭐️',\n",
       "  'Poopability: -',\n",
       "  'Weewee ka lang dito. :( well attended yung banyo. Solid doors. Hindi ka mapapasok ng kung sino. Pero hindi ka makakajebs.',\n",
       "  '#meronbangbidet #walangbidet #hindipoopable',\n",
       "  ''])"
      ]
     },
     "execution_count": 4,
     "metadata": {},
     "output_type": "execute_result"
    }
   ],
   "source": [
    "key = list(captions.keys())[0]\n",
    "entry_full = list(captions.values())[0]\n",
    "entry = entry_full.split(\"\\n\")\n",
    "key, entry"
   ]
  },
  {
   "cell_type": "code",
   "execution_count": 5,
   "id": "55259825c7b0b90a",
   "metadata": {
    "ExecuteTime": {
     "end_time": "2024-10-15T09:49:56.334730Z",
     "start_time": "2024-10-15T09:49:56.328902Z"
    }
   },
   "outputs": [
    {
     "data": {
      "text/plain": [
       "{'created': datetime.datetime(2019, 2, 4, 15, 25, 3),\n",
       " 'has_bidet': False,\n",
       " 'establishment_name': 'the peak, grand hyatt',\n",
       " 'content': 'Walang Bidet sa The Peak, Grand Hyatt. *sa sobrang lasing ko hindi ko sinunod sarili kong layout :(*\\nWeewee ka lang dito. :( well attended yung banyo. Solid doors. Hindi ka mapapasok ng kung sino. Pero hindi ka makakajebs.\\n',\n",
       " 'rating_cleanliness': 5,\n",
       " 'rating_water_pressure': 0,\n",
       " 'rating_poopability': 0}"
      ]
     },
     "execution_count": 5,
     "metadata": {},
     "output_type": "execute_result"
    }
   ],
   "source": [
    "def get_stars(attr: str):\n",
    "    return (\n",
    "        next(\n",
    "            (e for i, e in enumerate(entry) if e.lower().startswith(attr)),\n",
    "            \"\",\n",
    "        )\n",
    "        .split(\": \")[-1]\n",
    "        .strip()\n",
    "        .count(\"⭐\")\n",
    "    )\n",
    "\n",
    "\n",
    "def get_caption():\n",
    "    end_idx = next(\n",
    "        (i for i in range(len(entry)) if \"water pressure\" in entry[i].lower()),\n",
    "        -1,\n",
    "    )\n",
    "    start_idx = (\n",
    "        next(\n",
    "            (i for i in range(len(entry)) if \"poopability\" in entry[i].lower()),\n",
    "            -1,\n",
    "        )\n",
    "        + 1\n",
    "    )\n",
    "    return \"\\n\".join(\n",
    "        [\n",
    "            \"\\n\".join(e for e in entry[:end_idx] if not e.startswith(\"#\")),\n",
    "            \"\\n\".join(e for e in entry[start_idx:] if not e.startswith(\"#\")),\n",
    "        ]\n",
    "    )\n",
    "\n",
    "\n",
    "def get_timestamp():\n",
    "    return datetime.strptime(key, \"%Y-%m-%d_%H-%M-%S_%Z\")\n",
    "\n",
    "\n",
    "def get_has_bidet():\n",
    "    return entry[0].lower().startswith(\"meron\")\n",
    "\n",
    "\n",
    "def get_location_name():\n",
    "    return entry[0].lower().split(\" sa \")[-1].split(\".\")[0]\n",
    "\n",
    "\n",
    "def get_meta():\n",
    "    return {\n",
    "        \"created\": get_timestamp(),\n",
    "        \"has_bidet\": get_has_bidet(),\n",
    "        \"establishment_name\": get_location_name(),\n",
    "        \"content\": get_caption(),\n",
    "        \"rating_cleanliness\": get_stars(\"cleanliness\"),\n",
    "        \"rating_water_pressure\": get_stars(\"water pressure\"),\n",
    "        \"rating_poopability\": get_stars(\"poopability\"),\n",
    "    }\n",
    "\n",
    "\n",
    "get_meta()"
   ]
  },
  {
   "cell_type": "code",
   "execution_count": 8,
   "id": "d3889058dc243ffc",
   "metadata": {
    "ExecuteTime": {
     "end_time": "2024-10-15T09:50:32.759826Z",
     "start_time": "2024-10-15T09:50:32.756927Z"
    }
   },
   "outputs": [],
   "source": [
    "gmaps = googlemaps.Client(key=settings.GOOGLE_MAPS_API_KEY)"
   ]
  },
  {
   "cell_type": "code",
   "id": "c2e0023b192e34dd",
   "metadata": {
    "ExecuteTime": {
     "end_time": "2024-10-15T12:29:15.124037Z",
     "start_time": "2024-10-15T12:29:15.069123Z"
    }
   },
   "source": [
    "# res = gmaps.geocode('grand hyatt manila', region='ph')\n",
    "res = gmaps.places(\"mazzo\", region=\"ph\")\n",
    "res"
   ],
   "outputs": [
    {
     "data": {
      "text/plain": [
       "{'html_attributions': [],\n",
       " 'results': [{'business_status': 'OPERATIONAL',\n",
       "   'formatted_address': 'SLN terminus, Gachibowli, Marriott Executive Apartments, Level ST (Super Terrace, Survey No. 133, SLN Terminus Rd, Gachibowli, Kondapur, Telangana 500032, India',\n",
       "   'geometry': {'location': {'lat': 17.452687, 'lng': 78.3635767},\n",
       "    'viewport': {'northeast': {'lat': 17.45396792989272,\n",
       "      'lng': 78.36482027989271},\n",
       "     'southwest': {'lat': 17.45126827010728, 'lng': 78.36212062010728}}},\n",
       "   'icon': 'https://maps.gstatic.com/mapfiles/place_api/icons/v1/png_71/restaurant-71.png',\n",
       "   'icon_background_color': '#FF9E67',\n",
       "   'icon_mask_base_uri': 'https://maps.gstatic.com/mapfiles/place_api/icons/v2/restaurant_pinlet',\n",
       "   'name': 'Mazzo, Marriott Executive Apartments',\n",
       "   'opening_hours': {'open_now': True},\n",
       "   'photos': [{'height': 810,\n",
       "     'html_attributions': ['<a href=\"https://maps.google.com/maps/contrib/114185887599844532082\">A Google User</a>'],\n",
       "     'photo_reference': 'AdCG2DOm7LTHetKSm-sK1h4GDaHRWFeVC9AhiLCObdojmZqAyJ7dhUqi7bY1N5GuijYfKK4Cv0DvC3TsLCknHyH5DsNbZHNKV1pszezIGcAwUGy8NIn9_n7-kUJOBGe8hhjzLhWArll0HYapLVSSsQDbeRSP24x6ndiCSbGqO5SnvABhQTUG',\n",
       "     'width': 1440}],\n",
       "   'place_id': 'ChIJvX3wBmeTyzsR0OtqAB7zzGQ',\n",
       "   'plus_code': {'compound_code': 'F937+3C Kondapur, Telangana, India',\n",
       "    'global_code': '7J9WF937+3C'},\n",
       "   'price_level': 4,\n",
       "   'rating': 4.1,\n",
       "   'reference': 'ChIJvX3wBmeTyzsR0OtqAB7zzGQ',\n",
       "   'types': ['restaurant', 'food', 'point_of_interest', 'establishment'],\n",
       "   'user_ratings_total': 1122},\n",
       "  {'business_status': 'OPERATIONAL',\n",
       "   'formatted_address': 'Mazzo Restaurant, Radcliffe St, Royton, Oldham OL2 5QR, United Kingdom',\n",
       "   'geometry': {'location': {'lat': 53.5671568, 'lng': -2.1240836},\n",
       "    'viewport': {'northeast': {'lat': 53.56855552989272,\n",
       "      'lng': -2.122421120107278},\n",
       "     'southwest': {'lat': 53.56585587010728, 'lng': -2.125120779892722}}},\n",
       "   'icon': 'https://maps.gstatic.com/mapfiles/place_api/icons/v1/png_71/restaurant-71.png',\n",
       "   'icon_background_color': '#FF9E67',\n",
       "   'icon_mask_base_uri': 'https://maps.gstatic.com/mapfiles/place_api/icons/v2/restaurant_pinlet',\n",
       "   'name': 'Mazzo',\n",
       "   'opening_hours': {'open_now': False},\n",
       "   'photos': [{'height': 3000,\n",
       "     'html_attributions': ['<a href=\"https://maps.google.com/maps/contrib/102396844661840976523\">Tonybillz Lai</a>'],\n",
       "     'photo_reference': 'AdCG2DPOyStsno-ioyuJWx_BAgG_3w7EHbm7t3b0eFIxOef7MxLBoTx1cj0poIVI8k-64KL2DKFjy_PGfUteLnI4F7i31G0HaBimDMOyPL1zuUPc5Ab-3qcshgp7tK9YHOjmZfvGTsa4dBw_O2zXLll4SL71ze6sfK3XXEwweNa8w5wMV7yT',\n",
       "     'width': 4000}],\n",
       "   'place_id': 'ChIJpy0bM7a5e0gR6xDqD_2UJM4',\n",
       "   'plus_code': {'compound_code': 'HV8G+V9 Oldham, United Kingdom',\n",
       "    'global_code': '9C5VHV8G+V9'},\n",
       "   'price_level': 2,\n",
       "   'rating': 4.5,\n",
       "   'reference': 'ChIJpy0bM7a5e0gR6xDqD_2UJM4',\n",
       "   'types': ['restaurant', 'food', 'point_of_interest', 'establishment'],\n",
       "   'user_ratings_total': 987},\n",
       "  {'business_status': 'OPERATIONAL',\n",
       "   'formatted_address': '56 Club St, Singapore 069432',\n",
       "   'geometry': {'location': {'lat': 1.282069, 'lng': 103.8457786},\n",
       "    'viewport': {'northeast': {'lat': 1.283394479892722,\n",
       "      'lng': 103.8471639798927},\n",
       "     'southwest': {'lat': 1.280694820107278, 'lng': 103.8444643201073}}},\n",
       "   'icon': 'https://maps.gstatic.com/mapfiles/place_api/icons/v1/png_71/restaurant-71.png',\n",
       "   'icon_background_color': '#FF9E67',\n",
       "   'icon_mask_base_uri': 'https://maps.gstatic.com/mapfiles/place_api/icons/v2/restaurant_pinlet',\n",
       "   'name': 'Mazzo Restaurant & Bar — Italian Pizza & Chargrilled Meats | Wines & Cocktails',\n",
       "   'opening_hours': {'open_now': True},\n",
       "   'photos': [{'height': 3024,\n",
       "     'html_attributions': ['<a href=\"https://maps.google.com/maps/contrib/113131304243779791724\">A Google User</a>'],\n",
       "     'photo_reference': 'AdCG2DPcRYUuJIkVHSNJY2jbr_Z65Fe1vvw2RULo7va4Y4QWPkZbZBtH4LDHLhOosiu2NBF8z7OutIwb5zHIKBqR614-PHsWLt-tN3-lCoy59dOXGBRfvQuiIRSEEPJqLjLURdysIuZuKv4KQQ9AWMRHzrdpNYxv_OmPkBIC4cyHSLloTK_o',\n",
       "     'width': 4032}],\n",
       "   'place_id': 'ChIJUb2q_foZ2jER8SLTc85-itc',\n",
       "   'plus_code': {'compound_code': '7RJW+R8 Singapore',\n",
       "    'global_code': '6PH57RJW+R8'},\n",
       "   'price_level': 2,\n",
       "   'rating': 4.4,\n",
       "   'reference': 'ChIJUb2q_foZ2jER8SLTc85-itc',\n",
       "   'types': ['restaurant',\n",
       "    'bar',\n",
       "    'food',\n",
       "    'point_of_interest',\n",
       "    'establishment'],\n",
       "   'user_ratings_total': 352},\n",
       "  {'business_status': 'OPERATIONAL',\n",
       "   'formatted_address': '57FM+FP6, Victoria, Oriental Mindoro',\n",
       "   'geometry': {'location': {'lat': 13.1736517, 'lng': 121.2842103},\n",
       "    'viewport': {'northeast': {'lat': 13.17466302989272,\n",
       "      'lng': 121.2852355798928},\n",
       "     'southwest': {'lat': 13.17196337010728, 'lng': 121.2825359201073}}},\n",
       "   'icon': 'https://maps.gstatic.com/mapfiles/place_api/icons/v1/png_71/shopping-71.png',\n",
       "   'icon_background_color': '#4B96F3',\n",
       "   'icon_mask_base_uri': 'https://maps.gstatic.com/mapfiles/place_api/icons/v2/shopping_pinlet',\n",
       "   'name': 'Mazzo Fierro by Lyn',\n",
       "   'place_id': 'ChIJ-dkeTwC_vDMR7eTBQtQ9HwY',\n",
       "   'rating': 0,\n",
       "   'reference': 'ChIJ-dkeTwC_vDMR7eTBQtQ9HwY',\n",
       "   'types': ['store', 'point_of_interest', 'establishment'],\n",
       "   'user_ratings_total': 0},\n",
       "  {'business_status': 'CLOSED_PERMANENTLY',\n",
       "   'formatted_address': '8th Floor MDI Building, 39th Street, 10th Ave, Metro Manila',\n",
       "   'geometry': {'location': {'lat': 14.5596029, 'lng': 121.0554169},\n",
       "    'viewport': {'northeast': {'lat': 14.56094922989272,\n",
       "      'lng': 121.0567778798927},\n",
       "     'southwest': {'lat': 14.55824957010728, 'lng': 121.0540782201073}}},\n",
       "   'icon': 'https://maps.gstatic.com/mapfiles/place_api/icons/v1/png_71/bar-71.png',\n",
       "   'icon_background_color': '#FF9E67',\n",
       "   'icon_mask_base_uri': 'https://maps.gstatic.com/mapfiles/place_api/icons/v2/bar_pinlet',\n",
       "   'name': 'Mazzo Ph',\n",
       "   'permanently_closed': True,\n",
       "   'photos': [{'height': 853,\n",
       "     'html_attributions': ['<a href=\"https://maps.google.com/maps/contrib/107004687954937346747\">Allen Hernandez</a>'],\n",
       "     'photo_reference': 'AdCG2DMdJkeq1tijEZbPNblrHtjHe9zKG_DzmPb_7VleFjdoCTIsiNaMayZS5pBBXL2Z1YInwXs-UT2GmsibewZ7KL-MqXR9H3C6-ymGCKsTFP94tHBm6sq5RocsZ6LGpEQhIPKJTXOFabgSe4KLjniZz88lCgiTv0Y0qyBWqfna8Xqu8DbW',\n",
       "     'width': 480}],\n",
       "   'place_id': 'ChIJ-YKnn0DJlzMRE7UGISjeBsM',\n",
       "   'plus_code': {'compound_code': 'H354+R5 Taguig, Metro Manila',\n",
       "    'global_code': '7Q63H354+R5'},\n",
       "   'rating': 4.5,\n",
       "   'reference': 'ChIJ-YKnn0DJlzMRE7UGISjeBsM',\n",
       "   'types': ['bar', 'point_of_interest', 'establishment'],\n",
       "   'user_ratings_total': 2}],\n",
       " 'status': 'OK'}"
      ]
     },
     "execution_count": 23,
     "metadata": {},
     "output_type": "execute_result"
    }
   ],
   "execution_count": 23
  },
  {
   "cell_type": "code",
   "execution_count": 21,
   "id": "291456d439fd776f",
   "metadata": {
    "ExecuteTime": {
     "end_time": "2024-10-15T10:36:25.129017Z",
     "start_time": "2024-10-15T10:36:25.125768Z"
    }
   },
   "outputs": [
    {
     "data": {
      "text/plain": [
       "{'lat': 14.5563657, 'lng': 121.0517549}"
      ]
     },
     "execution_count": 21,
     "metadata": {},
     "output_type": "execute_result"
    }
   ],
   "source": [
    "res[\"results\"][0][\"geometry\"][\"location\"]"
   ]
  }
 ],
 "metadata": {
  "kernelspec": {
   "display_name": "Python 3",
   "language": "python",
   "name": "python3"
  },
  "language_info": {
   "codemirror_mode": {
    "name": "ipython",
    "version": 2
   },
   "file_extension": ".py",
   "mimetype": "text/x-python",
   "name": "python",
   "nbconvert_exporter": "python",
   "pygments_lexer": "ipython2",
   "version": "2.7.6"
  }
 },
 "nbformat": 4,
 "nbformat_minor": 5
}
